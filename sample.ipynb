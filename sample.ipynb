{
 "cells": [
  {
   "metadata": {},
   "cell_type": "markdown",
   "source": [
    "# This is a sample Jupyter Notebook\n",
    "\n",
    "Below is an example of a code cell. \n",
    "Put your cursor into the cell and press Shift+Enter to execute it and select the next one, or click !here goes the icon of the corresponding button in the gutter! button.\n",
    "To debug a cell, press Alt+Shift+Enter, or click !here goes the icon of the corresponding button in the gutter! button.\n",
    "\n",
    "Press Double Shift to search everywhere for classes, files, tool windows, actions, and settings.\n",
    "\n",
    "To learn more about Jupyter Notebooks in PyCharm, see [help](https://www.jetbrains.com/help/pycharm/jupyter-notebook-support.html).\n",
    "For an overview of PyCharm, go to Help -> Learn IDE features or refer to [our documentation](https://www.jetbrains.com/help/pycharm/getting-started.html)."
   ],
   "id": "8a77807f92f26ee"
  },
  {
   "metadata": {
    "ExecuteTime": {
     "end_time": "2024-10-30T23:18:48.500891Z",
     "start_time": "2024-10-30T23:18:48.493889Z"
    }
   },
   "cell_type": "code",
   "source": [
    "import pandas as pd\n",
    "import numpy as np\n",
    "import re"
   ],
   "id": "fbc121e30a2defb3",
   "outputs": [],
   "execution_count": 139
  },
  {
   "metadata": {},
   "cell_type": "markdown",
   "source": "",
   "id": "7308b5e914c9cb5d"
  },
  {
   "metadata": {
    "ExecuteTime": {
     "end_time": "2024-10-30T23:18:48.890404Z",
     "start_time": "2024-10-30T23:18:48.603443Z"
    }
   },
   "cell_type": "code",
   "source": [
    "df = pd.read_csv('data/resale_flat_prices_from_2017.csv', delimiter=',')\n",
    "print(df.head())"
   ],
   "id": "5c78bff9c0a7bca8",
   "outputs": [
    {
     "name": "stdout",
     "output_type": "stream",
     "text": [
      "     month        town flat_type block        street_name storey_range  \\\n",
      "0  2017-01  ANG MO KIO    2 ROOM   406  ANG MO KIO AVE 10     10 TO 12   \n",
      "1  2017-01  ANG MO KIO    3 ROOM   108   ANG MO KIO AVE 4     01 TO 03   \n",
      "2  2017-01  ANG MO KIO    3 ROOM   602   ANG MO KIO AVE 5     01 TO 03   \n",
      "3  2017-01  ANG MO KIO    3 ROOM   465  ANG MO KIO AVE 10     04 TO 06   \n",
      "4  2017-01  ANG MO KIO    3 ROOM   601   ANG MO KIO AVE 5     01 TO 03   \n",
      "\n",
      "   floor_area_sqm      flat_model  lease_commence_date     remaining_lease  \\\n",
      "0            44.0        Improved                 1979  61 years 04 months   \n",
      "1            67.0  New Generation                 1978  60 years 07 months   \n",
      "2            67.0  New Generation                 1980  62 years 05 months   \n",
      "3            68.0  New Generation                 1980   62 years 01 month   \n",
      "4            67.0  New Generation                 1980  62 years 05 months   \n",
      "\n",
      "   resale_price  \n",
      "0      232000.0  \n",
      "1      250000.0  \n",
      "2      262000.0  \n",
      "3      265000.0  \n",
      "4      265000.0  \n"
     ]
    }
   ],
   "execution_count": 140
  },
  {
   "metadata": {
    "ExecuteTime": {
     "end_time": "2024-10-30T23:18:49.015188Z",
     "start_time": "2024-10-30T23:18:48.891405Z"
    }
   },
   "cell_type": "code",
   "source": "print(df.info())",
   "id": "df5d5d8222e65df0",
   "outputs": [
    {
     "name": "stdout",
     "output_type": "stream",
     "text": [
      "<class 'pandas.core.frame.DataFrame'>\n",
      "RangeIndex: 192695 entries, 0 to 192694\n",
      "Data columns (total 11 columns):\n",
      " #   Column               Non-Null Count   Dtype  \n",
      "---  ------               --------------   -----  \n",
      " 0   month                192695 non-null  object \n",
      " 1   town                 192695 non-null  object \n",
      " 2   flat_type            192695 non-null  object \n",
      " 3   block                192695 non-null  object \n",
      " 4   street_name          192695 non-null  object \n",
      " 5   storey_range         192695 non-null  object \n",
      " 6   floor_area_sqm       192695 non-null  float64\n",
      " 7   flat_model           192695 non-null  object \n",
      " 8   lease_commence_date  192695 non-null  int64  \n",
      " 9   remaining_lease      192695 non-null  object \n",
      " 10  resale_price         192695 non-null  float64\n",
      "dtypes: float64(2), int64(1), object(8)\n",
      "memory usage: 16.2+ MB\n",
      "None\n"
     ]
    }
   ],
   "execution_count": 141
  },
  {
   "metadata": {
    "ExecuteTime": {
     "end_time": "2024-10-30T23:18:49.047188Z",
     "start_time": "2024-10-30T23:18:49.016188Z"
    }
   },
   "cell_type": "code",
   "source": "print(df.describe())",
   "id": "c91329ae0eca3a25",
   "outputs": [
    {
     "name": "stdout",
     "output_type": "stream",
     "text": [
      "       floor_area_sqm  lease_commence_date  resale_price\n",
      "count   192695.000000        192695.000000  1.926950e+05\n",
      "mean        97.041553          1996.146288  5.052774e+05\n",
      "std         24.039119            14.120676  1.763437e+05\n",
      "min         31.000000          1966.000000  1.400000e+05\n",
      "25%         82.000000          1985.000000  3.750000e+05\n",
      "50%         93.000000          1996.000000  4.750000e+05\n",
      "75%        112.000000          2011.000000  6.030000e+05\n",
      "max        366.700000          2021.000000  1.588000e+06\n"
     ]
    }
   ],
   "execution_count": 142
  },
  {
   "metadata": {
    "ExecuteTime": {
     "end_time": "2024-10-30T23:18:49.172660Z",
     "start_time": "2024-10-30T23:18:49.048190Z"
    }
   },
   "cell_type": "code",
   "source": "print(df.isnull().sum())",
   "id": "cf013465d2227f7e",
   "outputs": [
    {
     "name": "stdout",
     "output_type": "stream",
     "text": [
      "month                  0\n",
      "town                   0\n",
      "flat_type              0\n",
      "block                  0\n",
      "street_name            0\n",
      "storey_range           0\n",
      "floor_area_sqm         0\n",
      "flat_model             0\n",
      "lease_commence_date    0\n",
      "remaining_lease        0\n",
      "resale_price           0\n",
      "dtype: int64\n"
     ]
    }
   ],
   "execution_count": 143
  },
  {
   "metadata": {
    "ExecuteTime": {
     "end_time": "2024-10-30T23:18:51.038467Z",
     "start_time": "2024-10-30T23:18:49.173661Z"
    }
   },
   "cell_type": "code",
   "source": [
    "# Convert 'month' to datetime\n",
    "df['month'] = pd.to_datetime(df['month'], format='%Y-%m')\n",
    "\n",
    "# Convert 'lease_commence_date' to datetime\n",
    "df['lease_commence_date'] = pd.to_datetime(df['lease_commence_date'], format='%Y')\n",
    "\n",
    "# Convert 'remaining_lease' to number of years\n",
    "def parse_remaining_lease(lease_str):\n",
    "    if pd.isnull(lease_str):\n",
    "        return np.nan\n",
    "    years = 0\n",
    "    months = 0\n",
    "    year_match = re.search(r'(\\d+)\\s+years?', lease_str)\n",
    "    month_match = re.search(r'(\\d+)\\s+months?', lease_str)\n",
    "    if year_match:\n",
    "        years = int(year_match.group(1))\n",
    "    if month_match:\n",
    "        months = int(month_match.group(1))\n",
    "    total_years = years + (months / 12)\n",
    "    return round(total_years, 2)\n",
    "\n",
    "df['remaining_lease_years'] = df['remaining_lease'].apply(parse_remaining_lease)\n",
    "\n",
    "# Convert 'storey_range' into a numerical value by taking the average of the range: e.g. '01 to 03' -> 2\n",
    "def get_average_storey(storey_range):\n",
    "    floors = storey_range.split(' TO ')\n",
    "    if len(floors) == 2:\n",
    "        return (int(floors[0]) + int(floors[1])) / 2\n",
    "    else:\n",
    "        return np.nan\n",
    "\n",
    "df['storey_level'] = df['storey_range'].apply(get_average_storey)\n",
    "\n",
    "# Change the output format of 'month'\n",
    "df['month'] = df['month'].dt.strftime('%d-%m-%Y')\n",
    "\n",
    "# Change the output format of 'lease_commence_date'\n",
    "df['lease_commence_date'] = df['lease_commence_date'].dt.strftime('%d-%m-%Y')\n",
    "\n",
    "# Change 'Kallang/Whampoa' to 'Kallang'\n",
    "df['town'] = df['town'].replace('Kallang/Whampoa', 'Kallang')\n",
    "\n",
    "# Camelize the town and flat_type columns\n",
    "df['town'] = df['town'].str.title()\n",
    "df['flat_type'] = df['flat_type'].str.title()\n",
    "\n",
    "# Add ID column\n",
    "df['id'] = df.index + 1\n",
    "\n",
    "# Reorder the columns\n",
    "df = df[['id', 'month', 'town', 'flat_type', 'block', 'street_name', 'storey_range', 'storey_level', 'floor_area_sqm', 'flat_model', 'lease_commence_date', 'remaining_lease', 'remaining_lease_years', 'resale_price']]\n",
    "\n",
    "print(df.head())"
   ],
   "id": "d336d81d9334eb33",
   "outputs": [
    {
     "name": "stdout",
     "output_type": "stream",
     "text": [
      "   id       month        town flat_type block        street_name storey_range  \\\n",
      "0   1  01-01-2017  Ang Mo Kio    2 Room   406  ANG MO KIO AVE 10     10 TO 12   \n",
      "1   2  01-01-2017  Ang Mo Kio    3 Room   108   ANG MO KIO AVE 4     01 TO 03   \n",
      "2   3  01-01-2017  Ang Mo Kio    3 Room   602   ANG MO KIO AVE 5     01 TO 03   \n",
      "3   4  01-01-2017  Ang Mo Kio    3 Room   465  ANG MO KIO AVE 10     04 TO 06   \n",
      "4   5  01-01-2017  Ang Mo Kio    3 Room   601   ANG MO KIO AVE 5     01 TO 03   \n",
      "\n",
      "   storey_level  floor_area_sqm      flat_model lease_commence_date  \\\n",
      "0          11.0            44.0        Improved          01-01-1979   \n",
      "1           2.0            67.0  New Generation          01-01-1978   \n",
      "2           2.0            67.0  New Generation          01-01-1980   \n",
      "3           5.0            68.0  New Generation          01-01-1980   \n",
      "4           2.0            67.0  New Generation          01-01-1980   \n",
      "\n",
      "      remaining_lease  remaining_lease_years  resale_price  \n",
      "0  61 years 04 months                  61.33      232000.0  \n",
      "1  60 years 07 months                  60.58      250000.0  \n",
      "2  62 years 05 months                  62.42      262000.0  \n",
      "3   62 years 01 month                  62.08      265000.0  \n",
      "4  62 years 05 months                  62.42      265000.0  \n"
     ]
    }
   ],
   "execution_count": 144
  },
  {
   "metadata": {},
   "cell_type": "markdown",
   "source": "### Cleaning CPI data",
   "id": "6baa4da52bf169d6"
  },
  {
   "metadata": {
    "ExecuteTime": {
     "end_time": "2024-10-30T23:18:51.085026Z",
     "start_time": "2024-10-30T23:18:51.039469Z"
    }
   },
   "cell_type": "code",
   "source": [
    "import pandas as pd\n",
    "\n",
    "# Load and clean CPI data\n",
    "cpi_df = pd.read_csv('data/cpi.csv', delimiter=',', skiprows=10)\n",
    "cpi_pivot_df = cpi_df.set_index('Data Series').T\n",
    "relevant_columns = ['All Items', '    Accommodation']\n",
    "cpi_pivot_df = cpi_pivot_df[relevant_columns]\n",
    "\n",
    "# Trim whitespace from the index\n",
    "cpi_pivot_df.index = cpi_pivot_df.index.str.strip()\n",
    "# Convert the index to datetime format\n",
    "cpi_pivot_df.index = pd.to_datetime(cpi_pivot_df.index, format='%Y %b')\n",
    "cpi_pivot_df.index = cpi_pivot_df.index.strftime('%d-%m-%Y')\n",
    "\n",
    "# Reset the index and rename columns\n",
    "cpi_pivot_df.reset_index(inplace=True)\n",
    "cpi_pivot_df.columns = ['month', 'all_items', 'accommodation']\n",
    "print(cpi_pivot_df.head())\n",
    "\n",
    "# Export the cleaned data to a new CSV file\n",
    "cpi_pivot_df.to_csv('data/cleaned/cpi_cleaned.csv', index=False)"
   ],
   "id": "12351ecc9667b457",
   "outputs": [
    {
     "name": "stdout",
     "output_type": "stream",
     "text": [
      "        month all_items accommodation\n",
      "0  01-09-2024   116.864       114.679\n",
      "1  01-08-2024    116.57       114.566\n",
      "2  01-07-2024   116.328       114.813\n",
      "3  01-06-2024   116.065       113.833\n",
      "4  01-05-2024   116.316        113.66\n"
     ]
    }
   ],
   "execution_count": 145
  },
  {
   "metadata": {},
   "cell_type": "markdown",
   "source": "### Adding Adjusted Resale Prices using CPI Data (Housing & Utilities: Accommodation)",
   "id": "7bbb6bcd9d4a1102"
  },
  {
   "metadata": {
    "ExecuteTime": {
     "end_time": "2024-10-30T23:19:24.196293Z",
     "start_time": "2024-10-30T23:18:51.086027Z"
    }
   },
   "cell_type": "code",
   "source": [
    "# Set base CPI (assuming 2019=100)\n",
    "base_cpi = 100\n",
    "\n",
    "# Adjust the resale prices for inflation\n",
    "def adjust_price(row):\n",
    "    month = row['month']\n",
    "    # Ensure we get the CPI row for the matching month\n",
    "    cpi_row = cpi_pivot_df[cpi_pivot_df['month'] == month]\n",
    "    if cpi_row.empty:\n",
    "        return None\n",
    "    cpi = cpi_row['accommodation'].values[0]\n",
    "    return round(row['resale_price'] * (base_cpi / cpi), 0)\n",
    "\n",
    "# Apply the adjustment function to calculate adjusted prices\n",
    "df['adjusted_price'] = df.apply(adjust_price, axis=1)\n",
    "\n",
    "# Drop rows with missing adjusted prices (September 2024 CPI data is missing)\n",
    "df = df.dropna(subset=['adjusted_price'])\n",
    "\n",
    "# Round the adjusted prices to the hundredth place\n",
    "df['adjusted_price'] = df['adjusted_price'].round(-2)\n",
    "\n",
    "# Reorder the columns\n",
    "df = df[['id', 'month', 'town', 'flat_type', 'block', 'street_name', 'storey_range', 'storey_level', 'floor_area_sqm', 'flat_model', 'lease_commence_date', 'remaining_lease', 'remaining_lease_years', 'resale_price', 'adjusted_price']]\n",
    "\n",
    "print(df.head())"
   ],
   "id": "81d2bf6e972d8eb6",
   "outputs": [
    {
     "name": "stdout",
     "output_type": "stream",
     "text": [
      "   id       month        town flat_type block        street_name storey_range  \\\n",
      "0   1  01-01-2017  Ang Mo Kio    2 Room   406  ANG MO KIO AVE 10     10 TO 12   \n",
      "1   2  01-01-2017  Ang Mo Kio    3 Room   108   ANG MO KIO AVE 4     01 TO 03   \n",
      "2   3  01-01-2017  Ang Mo Kio    3 Room   602   ANG MO KIO AVE 5     01 TO 03   \n",
      "3   4  01-01-2017  Ang Mo Kio    3 Room   465  ANG MO KIO AVE 10     04 TO 06   \n",
      "4   5  01-01-2017  Ang Mo Kio    3 Room   601   ANG MO KIO AVE 5     01 TO 03   \n",
      "\n",
      "   storey_level  floor_area_sqm      flat_model lease_commence_date  \\\n",
      "0          11.0            44.0        Improved          01-01-1979   \n",
      "1           2.0            67.0  New Generation          01-01-1978   \n",
      "2           2.0            67.0  New Generation          01-01-1980   \n",
      "3           5.0            68.0  New Generation          01-01-1980   \n",
      "4           2.0            67.0  New Generation          01-01-1980   \n",
      "\n",
      "      remaining_lease  remaining_lease_years  resale_price  adjusted_price  \n",
      "0  61 years 04 months                  61.33      232000.0        219100.0  \n",
      "1  60 years 07 months                  60.58      250000.0        236100.0  \n",
      "2  62 years 05 months                  62.42      262000.0        247500.0  \n",
      "3   62 years 01 month                  62.08      265000.0        250300.0  \n",
      "4  62 years 05 months                  62.42      265000.0        250300.0  \n"
     ]
    }
   ],
   "execution_count": 146
  },
  {
   "metadata": {},
   "cell_type": "markdown",
   "source": [
    "### Adding Region Data\n",
    "`Region`\n",
    "\n",
    "`Market Segment`\n",
    "\n",
    "`Maturity`"
   ],
   "id": "cc691053c057b5ff"
  },
  {
   "metadata": {
    "ExecuteTime": {
     "end_time": "2024-10-30T23:19:24.243768Z",
     "start_time": "2024-10-30T23:19:24.197297Z"
    }
   },
   "cell_type": "code",
   "source": [
    "import pandas as pd\n",
    "region_df = pd.read_csv('data/region_data.csv', delimiter=',')\n",
    "\n",
    "# Create the mappings\n",
    "planning_area_mapping = dict(zip(region_df['town'], region_df['planning_area']))\n",
    "planning_region_mapping = dict(zip(region_df['town'], region_df['planning_region']))\n",
    "market_segment_mapping = dict(zip(region_df['town'], region_df['market_segment']))\n",
    "maturity_mapping = dict(zip(region_df['town'], region_df['maturity']))\n",
    "\n",
    "# Map the region data to the resale flat prices data\n",
    "df['planning_area'] = df['town'].map(planning_area_mapping)\n",
    "df['planning_region'] = df['town'].map(planning_region_mapping)\n",
    "df['market_segment'] = df['town'].map(market_segment_mapping)\n",
    "df['maturity'] = df['town'].map(maturity_mapping)"
   ],
   "id": "eab263f641a4a50",
   "outputs": [],
   "execution_count": 147
  },
  {
   "metadata": {},
   "cell_type": "markdown",
   "source": "### Add Region Data for Central Area Town",
   "id": "6897bcb68a30885c"
  },
  {
   "metadata": {
    "ExecuteTime": {
     "end_time": "2024-10-30T23:19:28.111246Z",
     "start_time": "2024-10-30T23:19:24.244771Z"
    }
   },
   "cell_type": "code",
   "source": [
    "import pandas as pd\n",
    "central_region_df = pd.read_csv('data/central_region_data.csv', delimiter=',')\n",
    "\n",
    "# Create the mappings from central_region_data.csv\n",
    "central_planning_area_mapping = dict(zip(central_region_df['street_name'], central_region_df['planning_area']))\n",
    "central_planning_region_mapping = dict(zip(central_region_df['street_name'], central_region_df['planning_region']))\n",
    "central_market_segment_mapping = dict(zip(central_region_df['street_name'], central_region_df['market_segment']))\n",
    "central_maturity_mapping = dict(zip(central_region_df['street_name'], central_region_df['maturity']))\n",
    "\n",
    "# Function to fill missing values using central region mappings\n",
    "def fill_missing_values(row, column, mapping):\n",
    "    if pd.isnull(row[column]):\n",
    "        return mapping.get(row['street_name'], row[column])\n",
    "    return row[column]\n",
    "\n",
    "# Apply the function to fill missing values\n",
    "df['planning_area'] = df.apply(lambda row: fill_missing_values(row, 'planning_area', central_planning_area_mapping), axis=1)\n",
    "df['planning_region'] = df.apply(lambda row: fill_missing_values(row, 'planning_region', central_planning_region_mapping), axis=1)\n",
    "df['market_segment'] = df.apply(lambda row: fill_missing_values(row, 'market_segment', central_market_segment_mapping), axis=1)\n",
    "df['maturity'] = df.apply(lambda row: fill_missing_values(row, 'maturity', central_maturity_mapping), axis=1)\n"
   ],
   "id": "b547e7f379dc5bd4",
   "outputs": [],
   "execution_count": 148
  },
  {
   "metadata": {},
   "cell_type": "markdown",
   "source": "### Export the cleaned resale flat prices data to a new CSV file",
   "id": "f3baf4582d693d52"
  },
  {
   "metadata": {
    "ExecuteTime": {
     "end_time": "2024-10-30T23:19:29.095040Z",
     "start_time": "2024-10-30T23:19:28.113336Z"
    }
   },
   "cell_type": "code",
   "source": [
    "# Export the cleaned data to a new CSV file\n",
    "df.to_csv('data/cleaned/resale_flat_prices_cleaned.csv', index=False)"
   ],
   "id": "2f426cdfdb4c69e4",
   "outputs": [],
   "execution_count": 149
  },
  {
   "metadata": {
    "ExecuteTime": {
     "end_time": "2024-10-30T23:19:29.313455Z",
     "start_time": "2024-10-30T23:19:29.096045Z"
    }
   },
   "cell_type": "code",
   "source": [
    "# Plot pearson correlation\n",
    "import seaborn as sns\n",
    "\n",
    "sns.heatmap(df.corr(numeric_only=True), annot=True)\n",
    "\n"
   ],
   "id": "ccf7ceba24f963a2",
   "outputs": [
    {
     "data": {
      "text/plain": [
       "<Axes: >"
      ]
     },
     "execution_count": 150,
     "metadata": {},
     "output_type": "execute_result"
    },
    {
     "data": {
      "text/plain": [
       "<Figure size 640x480 with 2 Axes>"
      ],
      "image/png": "[encoded data removed]"
     },
     "metadata": {},
     "output_type": "display_data"
    }
   ],
   "execution_count": 150
  },
  {
   "metadata": {
    "ExecuteTime": {
     "end_time": "2024-10-30T23:19:29.393454Z",
     "start_time": "2024-10-30T23:19:29.314455Z"
    }
   },
   "cell_type": "code",
   "source": [
    "import pandas as pd\n",
    "from sklearn.linear_model import LinearRegression\n",
    "from sklearn.metrics import r2_score\n",
    "from scipy.stats import pearsonr\n",
    "\n",
    "# Assuming df is your DataFrame and you want to predict 'adjusted_price' using 'floor_area_sqm'\n",
    "X = df[['floor_area_sqm']]  # Independent variable(s) \n",
    "y = df['adjusted_price']  # Dependent variable\n",
    "\n",
    "# Create and fit the model \n",
    "model = LinearRegression()\n",
    "model.fit(X, y)\n",
    "\n",
    "# Calculate the Pearson correlation coefficient\n",
    "# Flatten X to pass it to pearsonr as a 1D array\n",
    "r_value, _ = pearsonr(X['floor_area_sqm'], y)\n",
    "print(f'Pearson correlation coefficient (r value): {r_value}')\n",
    "\n",
    "# Predict the values \n",
    "y_pred = model.predict(X)\n",
    "\n",
    "# Calculate the R-squared value \n",
    "r2 = r2_score(y, y_pred)\n",
    "print(f'R-squared value: {r2}')\n"
   ],
   "id": "49d6bf057956ea31",
   "outputs": [
    {
     "name": "stdout",
     "output_type": "stream",
     "text": [
      "Pearson correlation coefficient (r value): 0.6217643330055012\n",
      "R-squared value: 0.3865908857977757\n"
     ]
    }
   ],
   "execution_count": 151
  },
  {
   "metadata": {
    "ExecuteTime": {
     "end_time": "2024-10-30T23:19:29.408459Z",
     "start_time": "2024-10-30T23:19:29.394455Z"
    }
   },
   "cell_type": "code",
   "source": "",
   "id": "832b4ebcc553d314",
   "outputs": [],
   "execution_count": 151
  },
  {
   "metadata": {},
   "cell_type": "markdown",
   "source": "### Create Pivot Table for Adjusted Flat Prices",
   "id": "bf5425c693c1716d"
  },
  {
   "metadata": {
    "ExecuteTime": {
     "end_time": "2024-10-30T23:19:30.229722Z",
     "start_time": "2024-10-30T23:19:29.409460Z"
    }
   },
   "cell_type": "code",
   "source": [
    "# Get numerical columns\n",
    "numerical_columns = ['adjusted_price', 'floor_area_sqm', 'storey_level', 'remaining_lease_years']\n",
    "# Get non-numerical columns\n",
    "non_numerical_columns = ['town', 'month', 'flat_type', 'block', 'street_name', 'storey_range', 'flat_model', 'lease_commence_date', 'remaining_lease', 'planning_area', 'planning_region', 'market_segment', 'maturity']\n",
    "\n",
    "# Drop the non-numerical columns\n",
    "df = df.drop(columns=non_numerical_columns)\n",
    "\n",
    "# Drop resale_price column\n",
    "df = df.drop(columns=['resale_price'])\n",
    "\n",
    "print(df.head())\n",
    "\n",
    "# Change the name of the numerical columns to CamelCase with Space\n",
    "df.columns = ['Id', 'Storey Level', 'Floor Area Sqm', 'Remaining Lease Years', 'Adjusted Price']\n",
    "\n",
    "# Melt the dataframe to create a long-form table\n",
    "melted_df = pd.melt(df, id_vars=['Id'])\n",
    "\n",
    "# Export the melted data to a new CSV file\n",
    "melted_df.to_csv('data/cleaned/resale_flat_prices_pivot.csv', index=False)"
   ],
   "id": "d12e8094f071bbe3",
   "outputs": [
    {
     "name": "stdout",
     "output_type": "stream",
     "text": [
      "   id  storey_level  floor_area_sqm  remaining_lease_years  adjusted_price\n",
      "0   1          11.0            44.0                  61.33        219100.0\n",
      "1   2           2.0            67.0                  60.58        236100.0\n",
      "2   3           2.0            67.0                  62.42        247500.0\n",
      "3   4           5.0            68.0                  62.08        250300.0\n",
      "4   5           2.0            67.0                  62.42        250300.0\n"
     ]
    }
   ],
   "execution_count": 152
  },
  {
   "metadata": {
    "ExecuteTime": {
     "end_time": "2024-10-30T23:19:30.260911Z",
     "start_time": "2024-10-30T23:19:30.230725Z"
    }
   },
   "cell_type": "code",
   "source": "df.corr()",
   "id": "5c787c65f266851f",
   "outputs": [
    {
     "data": {
      "text/plain": [
       "                             Id  Storey Level  Floor Area Sqm  \\\n",
       "Id                     1.000000      0.011087       -0.035143   \n",
       "Storey Level           0.011087      1.000000       -0.013944   \n",
       "Floor Area Sqm        -0.035143     -0.013944        1.000000   \n",
       "Remaining Lease Years -0.017747      0.274907        0.117883   \n",
       "Adjusted Price         0.238478      0.363713        0.621764   \n",
       "\n",
       "                       Remaining Lease Years  Adjusted Price  \n",
       "Id                                 -0.017747        0.238478  \n",
       "Storey Level                        0.274907        0.363713  \n",
       "Floor Area Sqm                      0.117883        0.621764  \n",
       "Remaining Lease Years               1.000000        0.334199  \n",
       "Adjusted Price                      0.334199        1.000000  "
      ],
      "text/html": [
       "<div>\n",
       "<style scoped>\n",
       "    .dataframe tbody tr th:only-of-type {\n",
       "        vertical-align: middle;\n",
       "    }\n",
       "\n",
       "    .dataframe tbody tr th {\n",
       "        vertical-align: top;\n",
       "    }\n",
       "\n",
       "    .dataframe thead th {\n",
       "        text-align: right;\n",
       "    }\n",
       "</style>\n",
       "<table border=\"1\" class=\"dataframe\">\n",
       "  <thead>\n",
       "    <tr style=\"text-align: right;\">\n",
       "      <th></th>\n",
       "      <th>Id</th>\n",
       "      <th>Storey Level</th>\n",
       "      <th>Floor Area Sqm</th>\n",
       "      <th>Remaining Lease Years</th>\n",
       "      <th>Adjusted Price</th>\n",
       "    </tr>\n",
       "  </thead>\n",
       "  <tbody>\n",
       "    <tr>\n",
       "      <th>Id</th>\n",
       "      <td>1.000000</td>\n",
       "      <td>0.011087</td>\n",
       "      <td>-0.035143</td>\n",
       "      <td>-0.017747</td>\n",
       "      <td>0.238478</td>\n",
       "    </tr>\n",
       "    <tr>\n",
       "      <th>Storey Level</th>\n",
       "      <td>0.011087</td>\n",
       "      <td>1.000000</td>\n",
       "      <td>-0.013944</td>\n",
       "      <td>0.274907</td>\n",
       "      <td>0.363713</td>\n",
       "    </tr>\n",
       "    <tr>\n",
       "      <th>Floor Area Sqm</th>\n",
       "      <td>-0.035143</td>\n",
       "      <td>-0.013944</td>\n",
       "      <td>1.000000</td>\n",
       "      <td>0.117883</td>\n",
       "      <td>0.621764</td>\n",
       "    </tr>\n",
       "    <tr>\n",
       "      <th>Remaining Lease Years</th>\n",
       "      <td>-0.017747</td>\n",
       "      <td>0.274907</td>\n",
       "      <td>0.117883</td>\n",
       "      <td>1.000000</td>\n",
       "      <td>0.334199</td>\n",
       "    </tr>\n",
       "    <tr>\n",
       "      <th>Adjusted Price</th>\n",
       "      <td>0.238478</td>\n",
       "      <td>0.363713</td>\n",
       "      <td>0.621764</td>\n",
       "      <td>0.334199</td>\n",
       "      <td>1.000000</td>\n",
       "    </tr>\n",
       "  </tbody>\n",
       "</table>\n",
       "</div>"
      ]
     },
     "execution_count": 153,
     "metadata": {},
     "output_type": "execute_result"
    }
   ],
   "execution_count": 153
  },
  {
   "metadata": {},
   "cell_type": "markdown",
   "source": "### Population Data Cleaning",
   "id": "acbdc89158857768"
  },
  {
   "metadata": {
    "ExecuteTime": {
     "end_time": "2024-10-30T23:19:30.322805Z",
     "start_time": "2024-10-30T23:19:30.261912Z"
    }
   },
   "cell_type": "code",
   "source": [
    "import pandas as pd\n",
    "# Define the consistent headers\n",
    "headers = ['planning_area', 'sub_zone', 'floor_area_sqm', 'dwelling_count', 'period']\n",
    "\n",
    "pop_2020_df = pd.read_csv('data/population_2011_to_2020.csv', delimiter=',', header=0 , names=headers)\n",
    "pop_2021_df = pd.read_csv('data/population_2021.csv', delimiter=',', header=0 , names=headers)\n",
    "pop_2022_df = pd.read_csv('data/population_2022.csv', delimiter=',', header=0 , names=headers)\n",
    "pop_2023_df = pd.read_csv('data/population_2023.csv', delimiter=',', header=0 , names=headers)\n",
    "pop_2024_df = pd.read_csv('data/population_2024.csv', delimiter=',', header=0 , names=headers)\n",
    "\n",
    "# Concatenate all the population dataframes\n",
    "pop_df = pd.concat([pop_2024_df, pop_2023_df, pop_2022_df, pop_2021_df, pop_2020_df], ignore_index=True)\n",
    "\n",
    "# # Get unique values of Planning Area\n",
    "# # Capitalize the Planning Area\n",
    "# pop_df['PA'] = pop_df['PA'].str.upper()\n",
    "# print(pop_df['PA'].unique())\n",
    "# \n",
    "# # Filter out unwanted Planning Areas\n",
    "# pop_df = pop_df[\n",
    "#     ~pop_df['PA'].isin([\n",
    "#         'SOUTHERN ISLANDS', 'NORTH-EASTERN ISLANDS', 'STRAITS VIEW', \n",
    "#         'WESTERN ISLANDS', 'CENTRAL WATER CATCHMENT', 'WESTERN WATER CATCHMENT'\n",
    "#     ])\n",
    "# ]\n",
    "# \n",
    "# \n",
    "# # Tagging for town to planning area\n",
    "# town_to_planning_area = {\n",
    "#     'BEDOK': ['PAYA LEBAR'],\n",
    "#     'KALLANG/WHAMPOA': ['KALLANG'],\n",
    "#     'CENTRAL AREA': ['DOWNTOWN CORE', 'MARINA EAST', 'MARINA SOUTH', 'MUSEUM', 'NEWTON', 'NOVENA', 'ORCHARD', 'OUTRAM', 'RIVER VALLEY', 'ROCHOR', 'SINGAPORE RIVER', 'TANGLIN'],\n",
    "#     'CHOA CHU KANG': ['SUNGEI KADUT'],\n",
    "#     'BISHAN': ['MANDAI'],\n",
    "#     'TAMPINES': ['CHANGI', 'CHANGI BAY'],\n",
    "#     'BUKIT BATOK': ['TENGAH'],\n",
    "#     'YISHUN': ['SIMPANG'],\n",
    "#     'PUNGGOL': ['SELETAR'],\n",
    "#     'JURONG WEST': ['PIONEER', 'LIM CHU KANG', 'TUAS', 'BOON LAY'],\n",
    "# }\n",
    "# \n",
    "# # Define a function to map PA to TOWN, using PA as the fallback if no match is found in the mapping\n",
    "# def get_town(planning_area):\n",
    "#     for town, areas in town_to_planning_area.items():\n",
    "#         if planning_area in areas:\n",
    "#             return town\n",
    "#     return planning_area  # Fallback to PA if no mapping is found\n",
    "# \n",
    "# # Apply the function to create the TOWN column\n",
    "# pop_df['TOWN'] = pop_df['PA'].apply(get_town)\n",
    "# \n",
    "# print(pop_df['TOWN'].unique())\n",
    "# print(len(pop_df['TOWN'].unique()))\n",
    "# \n",
    "# # Display the result to verify\n",
    "# print(pop_df[['PA', 'TOWN']].head())\n"
   ],
   "id": "7b090de96ab20e00",
   "outputs": [],
   "execution_count": 154
  },
  {
   "metadata": {
    "ExecuteTime": {
     "end_time": "2024-10-30T23:19:30.370804Z",
     "start_time": "2024-10-30T23:19:30.323808Z"
    }
   },
   "cell_type": "code",
   "source": [
    "# Export the cleaned data to a new CSV file\n",
    "pop_df.to_csv('data/cleaned/population_cleaned.csv', index=False)"
   ],
   "id": "4bcd708152475105",
   "outputs": [],
   "execution_count": 155
  },
  {
   "metadata": {
    "ExecuteTime": {
     "end_time": "2024-10-30T23:19:30.386805Z",
     "start_time": "2024-10-30T23:19:30.371806Z"
    }
   },
   "cell_type": "code",
   "source": "",
   "id": "a8d5c6d4c92a3747",
   "outputs": [],
   "execution_count": 155
  }
 ],
 "metadata": {
  "kernelspec": {
   "display_name": "Python 3",
   "language": "python",
   "name": "python3"
  },
  "language_info": {
   "codemirror_mode": {
    "name": "ipython",
    "version": 2
   },
   "file_extension": ".py",
   "mimetype": "text/x-python",
   "name": "python",
   "nbconvert_exporter": "python",
   "pygments_lexer": "ipython2",
   "version": "2.7.6"
  }
 },
 "nbformat": 4,
 "nbformat_minor": 5
}
